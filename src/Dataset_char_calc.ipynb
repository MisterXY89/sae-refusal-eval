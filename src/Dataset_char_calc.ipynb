{
 "cells": [
  {
   "cell_type": "markdown",
   "id": "adb87427-1f5b-488d-874e-7ebc5906e230",
   "metadata": {},
   "source": [
    "# Dataset Char Calculation"
   ]
  },
  {
   "cell_type": "markdown",
   "id": "cd01bd2a-dd20-4a64-984d-d1f277729b00",
   "metadata": {},
   "source": [
    "## Imports"
   ]
  },
  {
   "cell_type": "code",
   "execution_count": 1,
   "id": "b39b3576-949b-4f39-abdb-3a2ffc2f82bb",
   "metadata": {},
   "outputs": [],
   "source": [
    "!export HF_DATASETS_CACHE=/share/tilman.kerl/huggingface/datasets\n",
    "!export TRANSFORMERS_CACHE=/share/tilman.kerl/huggingface/models\n",
    "!export HUGGINGFACE_HUB_CACHE=/share/tilman.kerl/huggingface/hub"
   ]
  },
  {
   "cell_type": "code",
   "execution_count": 2,
   "id": "e6121b52-5972-4d7e-96e6-0e5530a2eba6",
   "metadata": {},
   "outputs": [],
   "source": [
    "import os\n",
    "import json\n",
    "\n",
    "from pathlib import Path\n",
    "\n",
    "import numpy as np\n",
    "import pandas as pd\n",
    "import matplotlib.pyplot as plt"
   ]
  },
  {
   "cell_type": "code",
   "execution_count": 3,
   "id": "36c9aa8f-02ce-4528-ba79-15194734167d",
   "metadata": {},
   "outputs": [
    {
     "name": "stderr",
     "output_type": "stream",
     "text": [
      "[nltk_data] Downloading package punkt to\n",
      "[nltk_data]     /home/tilman.kerl/nltk_data...\n",
      "[nltk_data]   Package punkt is already up-to-date!\n",
      "[nltk_data] Downloading package punkt_tab to\n",
      "[nltk_data]     /home/tilman.kerl/nltk_data...\n",
      "[nltk_data]   Package punkt_tab is already up-to-date!\n"
     ]
    }
   ],
   "source": [
    "from data_tools.dataset_chars import analyze_hf_dataset\n",
    "from config import config, set_hf_paths"
   ]
  },
  {
   "cell_type": "markdown",
   "id": "63e8227e-65ae-4133-a3f4-f8f0347e3c68",
   "metadata": {},
   "source": [
    "## Settings"
   ]
  },
  {
   "cell_type": "code",
   "execution_count": 4,
   "id": "ad843c32-dd5c-439a-974e-468c91308c42",
   "metadata": {},
   "outputs": [],
   "source": [
    "set_hf_paths()"
   ]
  },
  {
   "cell_type": "code",
   "execution_count": 5,
   "id": "f806475a-4bd1-403d-99e9-e20629a9263b",
   "metadata": {},
   "outputs": [],
   "source": [
    "RESULT_DIR = \"./results/dataset_chars/\""
   ]
  },
  {
   "cell_type": "code",
   "execution_count": 6,
   "id": "d936189e-3a94-42ae-b3ab-7d0d45f05b3f",
   "metadata": {},
   "outputs": [],
   "source": [
    "DATASETS = [\n",
    "    {\"name\":\"MIX-EQ\", \"hf_path\":\"MisterXY89/SmolLM-lmsys-mixtures\", \"split\":\"balanced_50_50\"},\n",
    "    {\"name\":\"MIX-INS\", \"hf_path\":\"MisterXY89/SmolLM-lmsys-mixtures\", \"split\":\"instruction_dominant_30_70\"},\n",
    "    {\"name\":\"MIX-PRE\", \"hf_path\":\"MisterXY89/SmolLM-lmsys-mixtures\", \"split\":\"pre_dominant_70_30\"},\n",
    "    {\"name\":\"INS\", \"hf_path\":\"MisterXY89/lmsys-processed\", \"split\":\"train\"},\n",
    "    {\"name\":\"PRE\", \"hf_path\":\"EleutherAI/SmolLM2-135M-10B\", \"split\":\"train\"},\n",
    "]"
   ]
  },
  {
   "cell_type": "markdown",
   "id": "da6fbb62-edfc-4053-8e4c-82d67e4623d9",
   "metadata": {},
   "source": [
    "## Char Computing"
   ]
  },
  {
   "cell_type": "code",
   "execution_count": 7,
   "id": "80c4a8ab-01a7-4f1e-81fa-b367edf1fe4a",
   "metadata": {},
   "outputs": [
    {
     "data": {
      "application/vnd.jupyter.widget-view+json": {
       "model_id": "ba362d412f314fc38d95f998b28086ba",
       "version_major": 2,
       "version_minor": 0
      },
      "text/plain": [
       "Resolving data files:   0%|          | 0/22 [00:00<?, ?it/s]"
      ]
     },
     "metadata": {},
     "output_type": "display_data"
    },
    {
     "data": {
      "application/vnd.jupyter.widget-view+json": {
       "model_id": "ccbb81826d104ed381ed9d7cdb82525a",
       "version_major": 2,
       "version_minor": 0
      },
      "text/plain": [
       "Resolving data files:   0%|          | 0/22 [00:00<?, ?it/s]"
      ]
     },
     "metadata": {},
     "output_type": "display_data"
    },
    {
     "name": "stdout",
     "output_type": "stream",
     "text": [
      "results/dataset_chars/MIX-EQ_metrics.json\n"
     ]
    },
    {
     "data": {
      "application/vnd.jupyter.widget-view+json": {
       "model_id": "c27c7e52ab76400f992aa2f4839934a8",
       "version_major": 2,
       "version_minor": 0
      },
      "text/plain": [
       "Resolving data files:   0%|          | 0/22 [00:00<?, ?it/s]"
      ]
     },
     "metadata": {},
     "output_type": "display_data"
    },
    {
     "data": {
      "application/vnd.jupyter.widget-view+json": {
       "model_id": "45c70a4344284821919c3a5fde46a2a3",
       "version_major": 2,
       "version_minor": 0
      },
      "text/plain": [
       "Resolving data files:   0%|          | 0/22 [00:00<?, ?it/s]"
      ]
     },
     "metadata": {},
     "output_type": "display_data"
    },
    {
     "name": "stdout",
     "output_type": "stream",
     "text": [
      "results/dataset_chars/MIX-INS_metrics.json\n"
     ]
    },
    {
     "data": {
      "application/vnd.jupyter.widget-view+json": {
       "model_id": "9d7de2725f07499b88095157f96eaeb9",
       "version_major": 2,
       "version_minor": 0
      },
      "text/plain": [
       "Resolving data files:   0%|          | 0/22 [00:00<?, ?it/s]"
      ]
     },
     "metadata": {},
     "output_type": "display_data"
    },
    {
     "data": {
      "application/vnd.jupyter.widget-view+json": {
       "model_id": "a8dcf8bc6e5b4386969a0804c7f221c7",
       "version_major": 2,
       "version_minor": 0
      },
      "text/plain": [
       "Resolving data files:   0%|          | 0/22 [00:00<?, ?it/s]"
      ]
     },
     "metadata": {},
     "output_type": "display_data"
    },
    {
     "name": "stdout",
     "output_type": "stream",
     "text": [
      "results/dataset_chars/MIX-PRE_metrics.json\n",
      "results/dataset_chars/INS_metrics.json\n"
     ]
    },
    {
     "data": {
      "application/vnd.jupyter.widget-view+json": {
       "model_id": "5947a449cc0f4145802a2b0dd8d64fe9",
       "version_major": 2,
       "version_minor": 0
      },
      "text/plain": [
       "Resolving data files:   0%|          | 0/85 [00:00<?, ?it/s]"
      ]
     },
     "metadata": {},
     "output_type": "display_data"
    },
    {
     "data": {
      "application/vnd.jupyter.widget-view+json": {
       "model_id": "f7259591862b4b53ad0f4b418ed8196a",
       "version_major": 2,
       "version_minor": 0
      },
      "text/plain": [
       "Resolving data files:   0%|          | 0/85 [00:00<?, ?it/s]"
      ]
     },
     "metadata": {},
     "output_type": "display_data"
    },
    {
     "name": "stdout",
     "output_type": "stream",
     "text": [
      "results/dataset_chars/PRE_metrics.json\n"
     ]
    }
   ],
   "source": [
    "for ds in DATASETS:\n",
    "    analyze_hf_dataset(\n",
    "        ds[\"hf_path\"], ds_name=ds[\"name\"], field=\"text\", \n",
    "        max_samples=5000, save_path=RESULT_DIR, split=ds[\"split\"], \n",
    "        streaming=True\n",
    ")"
   ]
  }
 ],
 "metadata": {
  "kernelspec": {
   "display_name": "refusal (py3.11)",
   "language": "python",
   "name": "refusalkernel"
  },
  "language_info": {
   "codemirror_mode": {
    "name": "ipython",
    "version": 3
   },
   "file_extension": ".py",
   "mimetype": "text/x-python",
   "name": "python",
   "nbconvert_exporter": "python",
   "pygments_lexer": "ipython3",
   "version": "3.11.11"
  }
 },
 "nbformat": 4,
 "nbformat_minor": 5
}
