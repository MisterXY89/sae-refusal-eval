{
 "cells": [
  {
   "cell_type": "markdown",
   "id": "6aad88cf-c8f0-437a-931f-d12729f5def8",
   "metadata": {},
   "source": [
    "# SAE Feature ID"
   ]
  },
  {
   "cell_type": "markdown",
   "id": "c6904f77-f2e0-4258-8b61-a1a67b06dca3",
   "metadata": {},
   "source": [
    "## Imports"
   ]
  },
  {
   "cell_type": "code",
   "execution_count": 20,
   "id": "ea1482fd-51df-4328-953d-cf8b65a55e11",
   "metadata": {},
   "outputs": [],
   "source": [
    "import re\n",
    "import os\n",
    "import json\n",
    "import pathlib\n",
    "import numpy as np\n",
    "import pandas as pd\n",
    "from sparsify import Sae\n",
    "\n",
    "import seaborn as sns\n",
    "import matplotlib.pyplot as plt"
   ]
  },
  {
   "cell_type": "code",
   "execution_count": 47,
   "id": "7188a02c-b974-4415-b2a1-964f37250733",
   "metadata": {},
   "outputs": [],
   "source": [
    "from data_tools.instructions import get_harmful_instructions, get_harmless_instructions\n",
    "from utils.templates import PYTHIA_TEMPLATE\n",
    "from utils.generation import ( \n",
    "    format_instruction, tokenize_instructions\n",
    ")\n",
    "import steering.linear_probing as lp_steer\n",
    "import refusal.linear_probing as lp_refuse\n",
    "\n",
    "from refusal.sae_feature_id import id_refusal_feature_for_sae\n",
    "\n",
    "from refusal.sae.sparsify.latent_features import get_latent_feature_stats as sparsify_get_latent_feature_stats\n",
    "from refusal.sae.sparsify import utils as sparsify_utils\n",
    "\n",
    "from evaluation.refusal import (\n",
    "    get_refusal_scores, get_wildguard_refusal_score, get_semantic_refusal_score\n",
    ")\n",
    "from evaluation.sae_eval import compute_sae_stats"
   ]
  },
  {
   "cell_type": "markdown",
   "id": "4e643782-0d7f-42c7-981f-7017d7c3f06a",
   "metadata": {},
   "source": [
    "## Helper"
   ]
  },
  {
   "cell_type": "code",
   "execution_count": 12,
   "id": "aad1cb47-7a64-4065-a3bd-7ae24d16eeb8",
   "metadata": {},
   "outputs": [
    {
     "name": "stdout",
     "output_type": "stream",
     "text": [
      "\n",
      "Successfully loaded data from 2736 JSON files.\n"
     ]
    }
   ],
   "source": [
    "all_stats_data = []\n",
    "\n",
    "delphi_stats_path = pathlib.Path(\"./evaluation/statistics/\")\n",
    "if not delphi_stats_path.is_dir():\n",
    "    print(f\"Error: Directory not found at '{delphi_stats_path}'\")\n",
    "else:\n",
    "    for json_file in delphi_stats_path.glob('*.json'):\n",
    "        try:\n",
    "            with open(json_file, 'r', encoding='utf-8') as f:\n",
    "                data = json.load(f)\n",
    "                all_stats_data.append(data)                \n",
    "        except json.JSONDecodeError:\n",
    "            print(f\"Warning: Could not decode JSON from '{json_file.name}'. The file might be corrupted or not valid JSON.\")\n",
    "        except Exception as e:\n",
    "            print(f\"An error occurred with file '{json_file.name}': {e}\")\n",
    "\n",
    "print(f\"\\nSuccessfully loaded data from {len(all_stats_data)} JSON files.\")"
   ]
  },
  {
   "cell_type": "code",
   "execution_count": 19,
   "id": "ea3ace01-e1f2-4205-bd67-8f6d40c19e7c",
   "metadata": {
    "scrolled": true
   },
   "outputs": [
    {
     "data": {
      "text/plain": [
       "[{'num_prompt_tokens': 834,\n",
       "  'num_new_tokens': 234,\n",
       "  'num_generated_tokens': 12,\n",
       "  'prompt': \"Latent explanation: Fragments of words, often prefixes or suffixes, that are part of a larger word or phrase, sometimes indicating a date or year.\\n\\nText examples:\\n\\nExample 0:  which lasts days after each treatment.\\nWhen will I see results?\\nTypically results will be visible between 3 to 10 sessions which varies from each\\nExample 1: , Russia and the Universal Church is of interest here.\\nQuote:This pseudo-Orthodoxy of our theological schools, which has nothing in common with\\nExample 2: ����� instead of just ��������.)\\n\\n      In Japanese, some traditional foods are normally referred to with an honor\\nExample 3:  the crime and Mrs. Palme doubted herself in picking him.\\n\\nApparently looking like a criminal isn't an offense.\\n\\nWith no suspect\\nExample 4: , our tool has those same analytics. The advantage that it has over Hootsuite or Bitly, is that you can not only see your analytics,\\n\",\n",
       "  'response': '[0,0,0,0,0]'},\n",
       " {'num_prompt_tokens': 834,\n",
       "  'num_new_tokens': 234,\n",
       "  'num_generated_tokens': 12,\n",
       "  'prompt': \"Latent explanation: Fragments of words, often prefixes or suffixes, that are part of a larger word or phrase, sometimes indicating a date or year.\\n\\nText examples:\\n\\nExample 0:  which lasts days after each treatment.\\nWhen will I see results?\\nTypically results will be visible between 3 to 10 sessions which varies from each\\nExample 1: , Russia and the Universal Church is of interest here.\\nQuote:This pseudo-Orthodoxy of our theological schools, which has nothing in common with\\nExample 2: ����� instead of just ��������.)\\n\\n      In Japanese, some traditional foods are normally referred to with an honor\\nExample 3:  the crime and Mrs. Palme doubted herself in picking him.\\n\\nApparently looking like a criminal isn't an offense.\\n\\nWith no suspect\\nExample 4: , our tool has those same analytics. The advantage that it has over Hootsuite or Bitly, is that you can not only see your analytics,\\n\",\n",
       "  'response': '[0,0,0,0,0]'},\n",
       " {'num_prompt_tokens': 834,\n",
       "  'num_new_tokens': 234,\n",
       "  'num_generated_tokens': 12,\n",
       "  'prompt': \"Latent explanation: Fragments of words, often prefixes or suffixes, that are part of a larger word or phrase, sometimes indicating a date or year.\\n\\nText examples:\\n\\nExample 0:  which lasts days after each treatment.\\nWhen will I see results?\\nTypically results will be visible between 3 to 10 sessions which varies from each\\nExample 1: , Russia and the Universal Church is of interest here.\\nQuote:This pseudo-Orthodoxy of our theological schools, which has nothing in common with\\nExample 2: ����� instead of just ��������.)\\n\\n      In Japanese, some traditional foods are normally referred to with an honor\\nExample 3:  the crime and Mrs. Palme doubted herself in picking him.\\n\\nApparently looking like a criminal isn't an offense.\\n\\nWith no suspect\\nExample 4: , our tool has those same analytics. The advantage that it has over Hootsuite or Bitly, is that you can not only see your analytics,\\n\",\n",
       "  'response': '[0,0,0,0,0]'}]"
      ]
     },
     "execution_count": 19,
     "metadata": {},
     "output_type": "execute_result"
    }
   ],
   "source": [
    "list(\n",
    "    filter(lambda x: \"can not\" in x[\"prompt\"], all_stats_data)\n",
    ")"
   ]
  },
  {
   "cell_type": "code",
   "execution_count": 50,
   "id": "991d559e-1f32-492e-b5af-8c3dff89cc68",
   "metadata": {},
   "outputs": [
    {
     "name": "stdout",
     "output_type": "stream",
     "text": [
      "successfully loaded data from 396 txt files.\n"
     ]
    }
   ],
   "source": [
    "all_epx_data = []\n",
    "\n",
    "delphi_stats_path = pathlib.Path(\n",
    "    \"./evaluation/results/EXP-sae-SmolLM2-135M-64x/explanations/\"\n",
    "    # \"./evaluation/results/EXP-smollm2-sparsify-EQ-50M-token-6_25-layers-32-expansion-64-k-layer-6/explanations/\"\n",
    ")\n",
    "if not delphi_stats_path.is_dir():\n",
    "    raise FileNotFoundError(f\"directory not found: {delphi_stats_path}\")\n",
    "\n",
    "# pattern to capture the latent number at end of filename stem\n",
    "latent_pattern = re.compile(r\"_latent(\\d+)$\")\n",
    "\n",
    "for txt_file in delphi_stats_path.glob(\"*.txt\"):\n",
    "    try:\n",
    "        # read entire file as text\n",
    "        content = txt_file.read_text(encoding=\"utf-8\")\n",
    "        # extract latent index\n",
    "        m = latent_pattern.search(txt_file.stem)\n",
    "        latent_idx = int(m.group(1)) if m else None\n",
    "        all_epx_data.append({\n",
    "            \"filename\": txt_file.name,\n",
    "            \"latent\": latent_idx,\n",
    "            \"content\": content\n",
    "        })\n",
    "    except Exception as e:\n",
    "        # catch any I/O or parsing errors\n",
    "        print(f\"error processing '{txt_file.name}': {e}\")\n",
    "\n",
    "print(f\"successfully loaded data from {len(all_epx_data)} txt files.\")\n"
   ]
  },
  {
   "cell_type": "code",
   "execution_count": 51,
   "id": "b09d95bd-31b3-4135-aafa-60736fcbb9f0",
   "metadata": {
    "scrolled": true
   },
   "outputs": [
    {
     "name": "stdout",
     "output_type": "stream",
     "text": [
      "[REGEX] found 1 refusal-related features\n",
      "[{'filename': 'layers.24.mlp_latent925.txt', 'latent': 925, 'content': '\"Verbs or verb forms associated with physical actions, often violent or forceful, such as cutting, biting, ripping, or tearing, as well as words related to physical harm or damage.\"'}]\n"
     ]
    }
   ],
   "source": [
    "# refusal-related substrings to look for\n",
    "refusal_keywords = [\n",
    "    \"refuse\", \"refusal\", \"deny\", \"denial\", \"reject\", \"decline\", \"rebuff\", \"spurn\", \"balk\", \"shun\",\n",
    "    \"cannot\", \"can't\", \"won't\", \"wouldn't\", \"don't\", \"didn't\", \"never\", \"not\",    \n",
    "    \"opt out\", \"opt-out\", \"opted out\", \"abstain\", \"abstained\",\n",
    "    \"forbid\", \"forbidden\", \"disallow\", \"ban\", \"bar\", \"prohibit\", \"prohibited\",\n",
    "    \"object\", \"objection\", \"oppose\", \"opposed\",\n",
    "    \"withhold\", \"withheld\",\n",
    "    \"no longer\", \"no one\", \"no way\", \"no more\", \"none\"\n",
    "]\n",
    "\n",
    "\n",
    "# compile a regex matching any keyword as a whole word (case-insensitive)\n",
    "sorted_kws = sorted(refusal_keywords, key=len, reverse=True)\n",
    "keyword_re = re.compile(\n",
    "    r\"\\b(\" + \"|\".join(re.escape(kw) for kw in sorted_kws) + r\")\\b\",\n",
    "    flags=re.IGNORECASE\n",
    ")\n",
    "\n",
    "def find_refusal_features(data, keyword_re=_keyword_re):\n",
    "    \"\"\"\n",
    "    return all entries whose 'content' matches any refusal keyword.\n",
    "    \"\"\"\n",
    "    return list(filter(\n",
    "        lambda x: bool(keyword_re.search(x[\"content\"])),\n",
    "        data\n",
    "    ))\n",
    "\n",
    "def count_refusal_features(data):\n",
    "    return sum(list(map(\n",
    "        lambda x: get_semantic_refusal_score(x[\"content\"]), data\n",
    "    )))\n",
    "\n",
    "\n",
    "matches = find_refusal_features(all_epx_data)\n",
    "print(f\"[REGEX] found {len(matches)} refusal-related features\")\n",
    "print(matches)\n",
    "# print(count_refusal_features(all_epx_data))"
   ]
  },
  {
   "cell_type": "markdown",
   "id": "a9b8c0c6-a22d-45af-8e1d-94ae43470069",
   "metadata": {
    "jp-MarkdownHeadingCollapsed": true
   },
   "source": [
    "## Settings"
   ]
  },
  {
   "cell_type": "code",
   "execution_count": 3,
   "id": "81af979c-8dce-43a1-a304-3310eb389c50",
   "metadata": {},
   "outputs": [],
   "source": [
    "N_INST_TRAIN = 100\n",
    "BASE_HIDDEN_SIZE = 576"
   ]
  },
  {
   "cell_type": "code",
   "execution_count": 4,
   "id": "e8a04236-ee60-4856-9a56-e4df6ed9beda",
   "metadata": {},
   "outputs": [],
   "source": [
    "SAES = [\n",
    "    # {\"name\": \"PRE\", \"path\": \"EleutherAI/sae-SmolLM2-135M-64x\",\"exp_factor\": 64,\"max_length\": 1024,\"is_local\": False, \"results\": None},    \n",
    "]"
   ]
  },
  {
   "cell_type": "code",
   "execution_count": 5,
   "id": "34cc0aea-695d-494c-97ff-9b143cb75692",
   "metadata": {},
   "outputs": [],
   "source": [
    "sae_eval_results = pd.read_csv(\"results/saes/aggregations/saes.csv\")\n",
    "idx = (\n",
    "    sae_eval_results\n",
    "    .groupby([\"layer\", \"sae_train_dataset\"])[\"explained_variance\"]\n",
    "    .idxmax()\n",
    ")\n",
    "best_df = sae_eval_results.loc[idx].reset_index(drop=True)\n",
    "best_saes_checkpoint_names = best_df[\"sae_checkpoint_name\"].to_list()"
   ]
  },
  {
   "cell_type": "code",
   "execution_count": 29,
   "id": "cce2d1a3-c9fc-4d51-b2d8-1cdf3bf443a5",
   "metadata": {},
   "outputs": [],
   "source": [
    "best_trained_saes = []\n",
    "base_dir = \"./train\"\n",
    "for sae_path in best_saes_checkpoint_names:\n",
    "\n",
    "    ckp_dir = \"MIX\"\n",
    "    if \"lmsys\" in sae_path:\n",
    "        ckp_dir = \"LMSYS\"\n",
    "        \n",
    "    ds_name = sae_path.split(\"-\")[2]\n",
    "    if ckp_dir == \"MIX\":\n",
    "        ds_name = f\"MIX-{ds_name}\" \n",
    "\n",
    "    layer = int(sae_path.split(\"layers.\")[1])\n",
    "    exp_factor = int(sae_path.split(\"-\")[7])\n",
    "\n",
    "    name = sae_path.split('layers.')[0][:-1]\n",
    "    sae_path = f\"{base_dir}/{ckp_dir}/checkpoints/{name}\"\n",
    "    best_trained_saes.append(sae_path)\n",
    "\n",
    "    SAES.append({\n",
    "        \"ds\": ds_name, \"layer\": layer, \"name\": name, \"path\": sae_path, \n",
    "        \"exp_factor\": exp_factor, \"max_length\": 64, \"is_local\": True, \"results\": None\n",
    "    })"
   ]
  },
  {
   "cell_type": "code",
   "execution_count": 32,
   "id": "a1fd3179-e43d-4a9a-9a6d-b94e8b4d6b12",
   "metadata": {},
   "outputs": [
    {
     "name": "stdout",
     "output_type": "stream",
     "text": [
      "['./train/MIX/checkpoints/smollm2-sparsify-EQ-50M-token-6_25-layers-32-expansion-64-k', './train/LMSYS/checkpoints/smollm2-sparsify-lmsys-50M-token-6_25-layers-32-expansion-64-k', './train/MIX/checkpoints/smollm2-sparsify-INS-50M-token-6_25-layers-32-expansion-64-k', './train/MIX/checkpoints/smollm2-sparsify-PRE-50M-token-6_25-layers-32-expansion-64-k']\n"
     ]
    }
   ],
   "source": [
    "print(list(set(best_trained_saes)))"
   ]
  },
  {
   "cell_type": "code",
   "execution_count": 7,
   "id": "e58730c2-1f4a-47c2-998f-76e7d079b34b",
   "metadata": {},
   "outputs": [
    {
     "data": {
      "text/plain": [
       "[{'ds': 'MIX-EQ',\n",
       "  'layer': 6,\n",
       "  'name': 'smollm2-sparsify-EQ-50M-token-6_25-layers-32-expansion-64-k',\n",
       "  'path': './train/MIX/checkpoints/smollm2-sparsify-EQ-50M-token-6_25-layers-32-expansion-64-k',\n",
       "  'exp_factor': 32,\n",
       "  'max_length': 64,\n",
       "  'is_local': True,\n",
       "  'results': None},\n",
       " {'ds': 'MIX-INS',\n",
       "  'layer': 6,\n",
       "  'name': 'smollm2-sparsify-INS-50M-token-6_25-layers-32-expansion-64-k',\n",
       "  'path': './train/MIX/checkpoints/smollm2-sparsify-INS-50M-token-6_25-layers-32-expansion-64-k',\n",
       "  'exp_factor': 32,\n",
       "  'max_length': 64,\n",
       "  'is_local': True,\n",
       "  'results': None},\n",
       " {'ds': 'MIX-PRE',\n",
       "  'layer': 6,\n",
       "  'name': 'smollm2-sparsify-PRE-50M-token-6_25-layers-32-expansion-64-k',\n",
       "  'path': './train/MIX/checkpoints/smollm2-sparsify-PRE-50M-token-6_25-layers-32-expansion-64-k',\n",
       "  'exp_factor': 32,\n",
       "  'max_length': 64,\n",
       "  'is_local': True,\n",
       "  'results': None},\n",
       " {'ds': 'lmsys',\n",
       "  'layer': 6,\n",
       "  'name': 'smollm2-sparsify-lmsys-50M-token-6_25-layers-32-expansion-64-k',\n",
       "  'path': './train/LMSYS/checkpoints/smollm2-sparsify-lmsys-50M-token-6_25-layers-32-expansion-64-k',\n",
       "  'exp_factor': 32,\n",
       "  'max_length': 64,\n",
       "  'is_local': True,\n",
       "  'results': None},\n",
       " {'ds': 'MIX-EQ',\n",
       "  'layer': 25,\n",
       "  'name': 'smollm2-sparsify-EQ-50M-token-6_25-layers-32-expansion-64-k',\n",
       "  'path': './train/MIX/checkpoints/smollm2-sparsify-EQ-50M-token-6_25-layers-32-expansion-64-k',\n",
       "  'exp_factor': 32,\n",
       "  'max_length': 64,\n",
       "  'is_local': True,\n",
       "  'results': None},\n",
       " {'ds': 'MIX-INS',\n",
       "  'layer': 25,\n",
       "  'name': 'smollm2-sparsify-INS-50M-token-6_25-layers-32-expansion-64-k',\n",
       "  'path': './train/MIX/checkpoints/smollm2-sparsify-INS-50M-token-6_25-layers-32-expansion-64-k',\n",
       "  'exp_factor': 32,\n",
       "  'max_length': 64,\n",
       "  'is_local': True,\n",
       "  'results': None},\n",
       " {'ds': 'MIX-PRE',\n",
       "  'layer': 25,\n",
       "  'name': 'smollm2-sparsify-PRE-50M-token-6_25-layers-32-expansion-64-k',\n",
       "  'path': './train/MIX/checkpoints/smollm2-sparsify-PRE-50M-token-6_25-layers-32-expansion-64-k',\n",
       "  'exp_factor': 32,\n",
       "  'max_length': 64,\n",
       "  'is_local': True,\n",
       "  'results': None},\n",
       " {'ds': 'lmsys',\n",
       "  'layer': 25,\n",
       "  'name': 'smollm2-sparsify-lmsys-50M-token-6_25-layers-32-expansion-64-k',\n",
       "  'path': './train/LMSYS/checkpoints/smollm2-sparsify-lmsys-50M-token-6_25-layers-32-expansion-64-k',\n",
       "  'exp_factor': 32,\n",
       "  'max_length': 64,\n",
       "  'is_local': True,\n",
       "  'results': None}]"
      ]
     },
     "execution_count": 7,
     "metadata": {},
     "output_type": "execute_result"
    }
   ],
   "source": [
    "SAES"
   ]
  },
  {
   "cell_type": "markdown",
   "id": "870a9de7-a5a1-4fda-b50b-be85eff90618",
   "metadata": {},
   "source": [
    "## Feature ID"
   ]
  },
  {
   "cell_type": "code",
   "execution_count": 8,
   "id": "f0ef6637-d66d-497f-8933-92cf01136734",
   "metadata": {
    "scrolled": true
   },
   "outputs": [
    {
     "name": "stderr",
     "output_type": "stream",
     "text": [
      "  0%|          | 0/1 [00:00<?, ?it/s]\n",
      "Extracting representations:   0%|          | 0/200 [00:00<?, ?it/s]/home/tilman.kerl/miniconda3/envs/refusal/lib/python3.11/site-packages/bitsandbytes/nn/modules.py:451: UserWarning: Input type into Linear4bit is torch.float16, but bnb_4bit_compute_dtype=torch.float32 (default). This will lead to slow inference or training speed.\n",
      "  warnings.warn(\n"
     ]
    },
    {
     "name": "stdout",
     "output_type": "stream",
     "text": [
      "torch.Size([1, 64, 64])\n"
     ]
    },
    {
     "name": "stderr",
     "output_type": "stream",
     "text": [
      "\n",
      "Extracting representations:   0%|          | 1/200 [00:00<01:03,  3.13it/s]"
     ]
    },
    {
     "name": "stdout",
     "output_type": "stream",
     "text": [
      "torch.Size([1, 64, 64])\n",
      "torch.Size([1, 64, 64])\n"
     ]
    },
    {
     "name": "stderr",
     "output_type": "stream",
     "text": [
      "\n",
      "Extracting representations:   2%|▏         | 3/200 [00:00<00:23,  8.32it/s]"
     ]
    },
    {
     "name": "stdout",
     "output_type": "stream",
     "text": [
      "torch.Size([1, 64, 64])\n",
      "torch.Size([1, 64, 64])\n"
     ]
    },
    {
     "name": "stderr",
     "output_type": "stream",
     "text": [
      "\n",
      "Extracting representations:   2%|▎         | 5/200 [00:00<00:16, 11.79it/s]"
     ]
    },
    {
     "name": "stdout",
     "output_type": "stream",
     "text": [
      "torch.Size([1, 64, 64])\n",
      "torch.Size([1, 64, 64])\n"
     ]
    },
    {
     "name": "stderr",
     "output_type": "stream",
     "text": [
      "\n",
      "Extracting representations:   4%|▎         | 7/200 [00:00<00:13, 14.22it/s]"
     ]
    },
    {
     "name": "stdout",
     "output_type": "stream",
     "text": [
      "torch.Size([1, 64, 64])\n",
      "torch.Size([1, 64, 64])\n"
     ]
    },
    {
     "name": "stderr",
     "output_type": "stream",
     "text": [
      "\n",
      "Extracting representations:   4%|▍         | 9/200 [00:00<00:12, 15.54it/s]"
     ]
    },
    {
     "name": "stdout",
     "output_type": "stream",
     "text": [
      "torch.Size([1, 64, 64])\n",
      "torch.Size([1, 64, 64])\n"
     ]
    },
    {
     "name": "stderr",
     "output_type": "stream",
     "text": [
      "\n",
      "Extracting representations:   6%|▌         | 11/200 [00:00<00:11, 16.43it/s]"
     ]
    },
    {
     "name": "stdout",
     "output_type": "stream",
     "text": [
      "torch.Size([1, 64, 64])\n",
      "torch.Size([1, 64, 64])\n"
     ]
    },
    {
     "name": "stderr",
     "output_type": "stream",
     "text": [
      "\n",
      "Extracting representations:   6%|▋         | 13/200 [00:00<00:10, 17.37it/s]"
     ]
    },
    {
     "name": "stdout",
     "output_type": "stream",
     "text": [
      "torch.Size([1, 64, 64])\n",
      "torch.Size([1, 64, 64])\n"
     ]
    },
    {
     "name": "stderr",
     "output_type": "stream",
     "text": [
      "\n",
      "Extracting representations:   8%|▊         | 15/200 [00:01<00:10, 17.70it/s]"
     ]
    },
    {
     "name": "stdout",
     "output_type": "stream",
     "text": [
      "torch.Size([1, 64, 64])\n",
      "torch.Size([1, 64, 64])\n"
     ]
    },
    {
     "name": "stderr",
     "output_type": "stream",
     "text": [
      "\n",
      "Extracting representations:   8%|▊         | 17/200 [00:01<00:09, 18.31it/s]"
     ]
    },
    {
     "name": "stdout",
     "output_type": "stream",
     "text": [
      "torch.Size([1, 64, 64])\n",
      "torch.Size([1, 64, 64])\n"
     ]
    },
    {
     "name": "stderr",
     "output_type": "stream",
     "text": [
      "\n",
      "Extracting representations:  10%|▉         | 19/200 [00:01<00:09, 18.77it/s]"
     ]
    },
    {
     "name": "stdout",
     "output_type": "stream",
     "text": [
      "torch.Size([1, 64, 64])\n",
      "torch.Size([1, 64, 64])\n"
     ]
    },
    {
     "name": "stderr",
     "output_type": "stream",
     "text": [
      "\n",
      "Extracting representations:  10%|█         | 21/200 [00:01<00:09, 18.96it/s]"
     ]
    },
    {
     "name": "stdout",
     "output_type": "stream",
     "text": [
      "torch.Size([1, 64, 64])\n",
      "torch.Size([1, 64, 64])\n"
     ]
    },
    {
     "name": "stderr",
     "output_type": "stream",
     "text": [
      "\n",
      "Extracting representations:  12%|█▏        | 23/200 [00:01<00:09, 19.13it/s]"
     ]
    },
    {
     "name": "stdout",
     "output_type": "stream",
     "text": [
      "torch.Size([1, 64, 64])\n",
      "torch.Size([1, 64, 64])\n"
     ]
    },
    {
     "name": "stderr",
     "output_type": "stream",
     "text": [
      "\n",
      "Extracting representations:  12%|█▎        | 25/200 [00:01<00:09, 18.98it/s]"
     ]
    },
    {
     "name": "stdout",
     "output_type": "stream",
     "text": [
      "torch.Size([1, 64, 64])\n",
      "torch.Size([1, 64, 64])\n"
     ]
    },
    {
     "name": "stderr",
     "output_type": "stream",
     "text": [
      "\n",
      "Extracting representations:  14%|█▎        | 27/200 [00:01<00:08, 19.24it/s]"
     ]
    },
    {
     "name": "stdout",
     "output_type": "stream",
     "text": [
      "torch.Size([1, 64, 64])\n",
      "torch.Size([1, 64, 64])\n"
     ]
    },
    {
     "name": "stderr",
     "output_type": "stream",
     "text": [
      "\n",
      "Extracting representations:  14%|█▍        | 29/200 [00:01<00:09, 18.50it/s]"
     ]
    },
    {
     "name": "stdout",
     "output_type": "stream",
     "text": [
      "torch.Size([1, 64, 64])\n",
      "torch.Size([1, 64, 64])\n"
     ]
    },
    {
     "name": "stderr",
     "output_type": "stream",
     "text": [
      "\n",
      "Extracting representations:  16%|█▌        | 31/200 [00:01<00:09, 18.62it/s]"
     ]
    },
    {
     "name": "stdout",
     "output_type": "stream",
     "text": [
      "torch.Size([1, 64, 64])\n",
      "torch.Size([1, 64, 64])\n"
     ]
    },
    {
     "name": "stderr",
     "output_type": "stream",
     "text": [
      "\n",
      "Extracting representations:  16%|█▋        | 33/200 [00:01<00:08, 18.82it/s]"
     ]
    },
    {
     "name": "stdout",
     "output_type": "stream",
     "text": [
      "torch.Size([1, 64, 64])\n",
      "torch.Size([1, 64, 64])\n"
     ]
    },
    {
     "name": "stderr",
     "output_type": "stream",
     "text": [
      "\n",
      "Extracting representations:  18%|█▊        | 35/200 [00:02<00:08, 18.98it/s]"
     ]
    },
    {
     "name": "stdout",
     "output_type": "stream",
     "text": [
      "torch.Size([1, 64, 64])\n",
      "torch.Size([1, 64, 64])\n"
     ]
    },
    {
     "name": "stderr",
     "output_type": "stream",
     "text": [
      "\n",
      "Extracting representations:  18%|█▊        | 37/200 [00:02<00:08, 19.10it/s]"
     ]
    },
    {
     "name": "stdout",
     "output_type": "stream",
     "text": [
      "torch.Size([1, 64, 64])\n",
      "torch.Size([1, 64, 64])\n"
     ]
    },
    {
     "name": "stderr",
     "output_type": "stream",
     "text": [
      "\n",
      "Extracting representations:  20%|█▉        | 39/200 [00:02<00:08, 19.24it/s]"
     ]
    },
    {
     "name": "stdout",
     "output_type": "stream",
     "text": [
      "torch.Size([1, 64, 64])\n",
      "torch.Size([1, 64, 64])\n"
     ]
    },
    {
     "name": "stderr",
     "output_type": "stream",
     "text": [
      "\n",
      "Extracting representations:  20%|██        | 41/200 [00:02<00:08, 19.36it/s]"
     ]
    },
    {
     "name": "stdout",
     "output_type": "stream",
     "text": [
      "torch.Size([1, 64, 64])\n",
      "torch.Size([1, 64, 64])\n"
     ]
    },
    {
     "name": "stderr",
     "output_type": "stream",
     "text": [
      "\n",
      "Extracting representations:  22%|██▏       | 43/200 [00:02<00:08, 19.35it/s]"
     ]
    },
    {
     "name": "stdout",
     "output_type": "stream",
     "text": [
      "torch.Size([1, 64, 64])\n",
      "torch.Size([1, 64, 64])\n"
     ]
    },
    {
     "name": "stderr",
     "output_type": "stream",
     "text": [
      "\n",
      "Extracting representations:  22%|██▎       | 45/200 [00:02<00:08, 19.35it/s]"
     ]
    },
    {
     "name": "stdout",
     "output_type": "stream",
     "text": [
      "torch.Size([1, 64, 64])\n",
      "torch.Size([1, 64, 64])\n"
     ]
    },
    {
     "name": "stderr",
     "output_type": "stream",
     "text": [
      "\n",
      "Extracting representations:  24%|██▎       | 47/200 [00:02<00:07, 19.18it/s]"
     ]
    },
    {
     "name": "stdout",
     "output_type": "stream",
     "text": [
      "torch.Size([1, 64, 64])\n",
      "torch.Size([1, 64, 64])\n"
     ]
    },
    {
     "name": "stderr",
     "output_type": "stream",
     "text": [
      "\n",
      "Extracting representations:  24%|██▍       | 49/200 [00:02<00:08, 18.78it/s]"
     ]
    },
    {
     "name": "stdout",
     "output_type": "stream",
     "text": [
      "torch.Size([1, 64, 64])\n",
      "torch.Size([1, 64, 64])\n"
     ]
    },
    {
     "name": "stderr",
     "output_type": "stream",
     "text": [
      "\n",
      "Extracting representations:  26%|██▌       | 51/200 [00:02<00:07, 18.68it/s]"
     ]
    },
    {
     "name": "stdout",
     "output_type": "stream",
     "text": [
      "torch.Size([1, 64, 64])\n",
      "torch.Size([1, 64, 64])\n",
      "torch.Size([1, 64, 64])\n"
     ]
    },
    {
     "name": "stderr",
     "output_type": "stream",
     "text": [
      "\n",
      "Extracting representations:  27%|██▋       | 54/200 [00:03<00:07, 19.18it/s]"
     ]
    },
    {
     "name": "stdout",
     "output_type": "stream",
     "text": [
      "torch.Size([1, 64, 64])\n",
      "torch.Size([1, 64, 64])\n"
     ]
    },
    {
     "name": "stderr",
     "output_type": "stream",
     "text": [
      "\n",
      "Extracting representations:  28%|██▊       | 56/200 [00:03<00:07, 19.28it/s]"
     ]
    },
    {
     "name": "stdout",
     "output_type": "stream",
     "text": [
      "torch.Size([1, 64, 64])\n",
      "torch.Size([1, 64, 64])\n"
     ]
    },
    {
     "name": "stderr",
     "output_type": "stream",
     "text": [
      "\n",
      "Extracting representations:  29%|██▉       | 58/200 [00:03<00:07, 19.35it/s]"
     ]
    },
    {
     "name": "stdout",
     "output_type": "stream",
     "text": [
      "torch.Size([1, 64, 64])\n",
      "torch.Size([1, 64, 64])\n",
      "torch.Size([1, 64, 64])\n"
     ]
    },
    {
     "name": "stderr",
     "output_type": "stream",
     "text": [
      "\n",
      "Extracting representations:  30%|███       | 61/200 [00:03<00:07, 19.58it/s]"
     ]
    },
    {
     "name": "stdout",
     "output_type": "stream",
     "text": [
      "torch.Size([1, 64, 64])\n",
      "torch.Size([1, 64, 64])\n"
     ]
    },
    {
     "name": "stderr",
     "output_type": "stream",
     "text": [
      "\n",
      "Extracting representations:  32%|███▏      | 63/200 [00:03<00:07, 19.37it/s]"
     ]
    },
    {
     "name": "stdout",
     "output_type": "stream",
     "text": [
      "torch.Size([1, 64, 64])\n",
      "torch.Size([1, 64, 64])\n"
     ]
    },
    {
     "name": "stderr",
     "output_type": "stream",
     "text": [
      "\n",
      "Extracting representations:  32%|███▎      | 65/200 [00:03<00:06, 19.50it/s]"
     ]
    },
    {
     "name": "stdout",
     "output_type": "stream",
     "text": [
      "torch.Size([1, 64, 64])\n",
      "torch.Size([1, 64, 64])\n"
     ]
    },
    {
     "name": "stderr",
     "output_type": "stream",
     "text": [
      "\n",
      "Extracting representations:  34%|███▎      | 67/200 [00:03<00:07, 18.66it/s]"
     ]
    },
    {
     "name": "stdout",
     "output_type": "stream",
     "text": [
      "torch.Size([1, 64, 64])\n",
      "torch.Size([1, 64, 64])\n"
     ]
    },
    {
     "name": "stderr",
     "output_type": "stream",
     "text": [
      "\n",
      "Extracting representations:  34%|███▍      | 69/200 [00:03<00:06, 18.82it/s]"
     ]
    },
    {
     "name": "stdout",
     "output_type": "stream",
     "text": [
      "torch.Size([1, 64, 64])\n",
      "torch.Size([1, 64, 64])\n",
      "torch.Size([1, 64, 64])\n"
     ]
    },
    {
     "name": "stderr",
     "output_type": "stream",
     "text": [
      "\n",
      "Extracting representations:  36%|███▌      | 72/200 [00:04<00:06, 19.28it/s]"
     ]
    },
    {
     "name": "stdout",
     "output_type": "stream",
     "text": [
      "torch.Size([1, 64, 64])\n",
      "torch.Size([1, 64, 64])\n"
     ]
    },
    {
     "name": "stderr",
     "output_type": "stream",
     "text": [
      "\n",
      "Extracting representations:  37%|███▋      | 74/200 [00:04<00:06, 19.26it/s]"
     ]
    },
    {
     "name": "stdout",
     "output_type": "stream",
     "text": [
      "torch.Size([1, 64, 64])\n",
      "torch.Size([1, 64, 64])\n",
      "torch.Size([1, 64, 64])\n"
     ]
    },
    {
     "name": "stderr",
     "output_type": "stream",
     "text": [
      "\n",
      "Extracting representations:  38%|███▊      | 77/200 [00:04<00:06, 19.42it/s]"
     ]
    },
    {
     "name": "stdout",
     "output_type": "stream",
     "text": [
      "torch.Size([1, 64, 64])\n",
      "torch.Size([1, 64, 64])\n"
     ]
    },
    {
     "name": "stderr",
     "output_type": "stream",
     "text": [
      "\n",
      "Extracting representations:  40%|███▉      | 79/200 [00:04<00:06, 19.41it/s]"
     ]
    },
    {
     "name": "stdout",
     "output_type": "stream",
     "text": [
      "torch.Size([1, 64, 64])\n",
      "torch.Size([1, 64, 64])\n"
     ]
    },
    {
     "name": "stderr",
     "output_type": "stream",
     "text": [
      "\n",
      "Extracting representations:  40%|████      | 81/200 [00:04<00:06, 19.44it/s]"
     ]
    },
    {
     "name": "stdout",
     "output_type": "stream",
     "text": [
      "torch.Size([1, 64, 64])\n",
      "torch.Size([1, 64, 64])\n"
     ]
    },
    {
     "name": "stderr",
     "output_type": "stream",
     "text": [
      "\n",
      "Extracting representations:  42%|████▏     | 83/200 [00:04<00:06, 19.23it/s]"
     ]
    },
    {
     "name": "stdout",
     "output_type": "stream",
     "text": [
      "torch.Size([1, 64, 64])\n",
      "torch.Size([1, 64, 64])\n"
     ]
    },
    {
     "name": "stderr",
     "output_type": "stream",
     "text": [
      "\n",
      "Extracting representations:  42%|████▎     | 85/200 [00:04<00:05, 19.27it/s]"
     ]
    },
    {
     "name": "stdout",
     "output_type": "stream",
     "text": [
      "torch.Size([1, 64, 64])\n",
      "torch.Size([1, 64, 64])\n"
     ]
    },
    {
     "name": "stderr",
     "output_type": "stream",
     "text": [
      "\n",
      "Extracting representations:  44%|████▎     | 87/200 [00:04<00:06, 18.70it/s]"
     ]
    },
    {
     "name": "stdout",
     "output_type": "stream",
     "text": [
      "torch.Size([1, 64, 64])\n",
      "torch.Size([1, 64, 64])\n"
     ]
    },
    {
     "name": "stderr",
     "output_type": "stream",
     "text": [
      "\n",
      "Extracting representations:  44%|████▍     | 89/200 [00:04<00:05, 18.69it/s]"
     ]
    },
    {
     "name": "stdout",
     "output_type": "stream",
     "text": [
      "torch.Size([1, 64, 64])\n",
      "torch.Size([1, 64, 64])\n"
     ]
    },
    {
     "name": "stderr",
     "output_type": "stream",
     "text": [
      "\n",
      "Extracting representations:  46%|████▌     | 91/200 [00:05<00:05, 18.82it/s]"
     ]
    },
    {
     "name": "stdout",
     "output_type": "stream",
     "text": [
      "torch.Size([1, 64, 64])\n",
      "torch.Size([1, 64, 64])\n"
     ]
    },
    {
     "name": "stderr",
     "output_type": "stream",
     "text": [
      "\n",
      "Extracting representations:  46%|████▋     | 93/200 [00:05<00:05, 18.93it/s]"
     ]
    },
    {
     "name": "stdout",
     "output_type": "stream",
     "text": [
      "torch.Size([1, 64, 64])\n",
      "torch.Size([1, 64, 64])\n"
     ]
    },
    {
     "name": "stderr",
     "output_type": "stream",
     "text": [
      "\n",
      "Extracting representations:  48%|████▊     | 95/200 [00:05<00:05, 19.17it/s]"
     ]
    },
    {
     "name": "stdout",
     "output_type": "stream",
     "text": [
      "torch.Size([1, 64, 64])\n",
      "torch.Size([1, 64, 64])\n"
     ]
    },
    {
     "name": "stderr",
     "output_type": "stream",
     "text": [
      "\n",
      "Extracting representations:  48%|████▊     | 97/200 [00:05<00:05, 19.27it/s]"
     ]
    },
    {
     "name": "stdout",
     "output_type": "stream",
     "text": [
      "torch.Size([1, 64, 64])\n",
      "torch.Size([1, 64, 64])\n",
      "torch.Size([1, 64, 64])\n"
     ]
    },
    {
     "name": "stderr",
     "output_type": "stream",
     "text": [
      "\n",
      "Extracting representations:  50%|█████     | 100/200 [00:05<00:05, 19.53it/s]"
     ]
    },
    {
     "name": "stdout",
     "output_type": "stream",
     "text": [
      "torch.Size([1, 64, 64])\n",
      "torch.Size([1, 64, 64])\n"
     ]
    },
    {
     "name": "stderr",
     "output_type": "stream",
     "text": [
      "\n",
      "Extracting representations:  51%|█████     | 102/200 [00:05<00:05, 19.23it/s]"
     ]
    },
    {
     "name": "stdout",
     "output_type": "stream",
     "text": [
      "torch.Size([1, 64, 64])\n",
      "torch.Size([1, 64, 64])\n"
     ]
    },
    {
     "name": "stderr",
     "output_type": "stream",
     "text": [
      "\n",
      "Extracting representations:  52%|█████▏    | 104/200 [00:05<00:04, 19.25it/s]"
     ]
    },
    {
     "name": "stdout",
     "output_type": "stream",
     "text": [
      "torch.Size([1, 64, 64])\n",
      "torch.Size([1, 64, 64])\n"
     ]
    },
    {
     "name": "stderr",
     "output_type": "stream",
     "text": [
      "\n",
      "Extracting representations:  53%|█████▎    | 106/200 [00:05<00:05, 18.54it/s]"
     ]
    },
    {
     "name": "stdout",
     "output_type": "stream",
     "text": [
      "torch.Size([1, 64, 64])\n",
      "torch.Size([1, 64, 64])\n"
     ]
    },
    {
     "name": "stderr",
     "output_type": "stream",
     "text": [
      "\n",
      "Extracting representations:  54%|█████▍    | 108/200 [00:05<00:04, 18.82it/s]"
     ]
    },
    {
     "name": "stdout",
     "output_type": "stream",
     "text": [
      "torch.Size([1, 64, 64])\n",
      "torch.Size([1, 64, 64])\n"
     ]
    },
    {
     "name": "stderr",
     "output_type": "stream",
     "text": [
      "\n",
      "Extracting representations:  55%|█████▌    | 110/200 [00:06<00:04, 19.03it/s]"
     ]
    },
    {
     "name": "stdout",
     "output_type": "stream",
     "text": [
      "torch.Size([1, 64, 64])\n",
      "torch.Size([1, 64, 64])\n"
     ]
    },
    {
     "name": "stderr",
     "output_type": "stream",
     "text": [
      "\n",
      "Extracting representations:  56%|█████▌    | 112/200 [00:06<00:04, 19.09it/s]"
     ]
    },
    {
     "name": "stdout",
     "output_type": "stream",
     "text": [
      "torch.Size([1, 64, 64])\n",
      "torch.Size([1, 64, 64])\n"
     ]
    },
    {
     "name": "stderr",
     "output_type": "stream",
     "text": [
      "\n",
      "Extracting representations:  57%|█████▋    | 114/200 [00:06<00:04, 19.19it/s]"
     ]
    },
    {
     "name": "stdout",
     "output_type": "stream",
     "text": [
      "torch.Size([1, 64, 64])\n",
      "torch.Size([1, 64, 64])\n",
      "torch.Size([1, 64, 64])\n"
     ]
    },
    {
     "name": "stderr",
     "output_type": "stream",
     "text": [
      "\n",
      "Extracting representations:  58%|█████▊    | 117/200 [00:06<00:04, 19.46it/s]"
     ]
    },
    {
     "name": "stdout",
     "output_type": "stream",
     "text": [
      "torch.Size([1, 64, 64])\n",
      "torch.Size([1, 64, 64])\n"
     ]
    },
    {
     "name": "stderr",
     "output_type": "stream",
     "text": [
      "\n",
      "Extracting representations:  60%|█████▉    | 119/200 [00:06<00:04, 19.54it/s]"
     ]
    },
    {
     "name": "stdout",
     "output_type": "stream",
     "text": [
      "torch.Size([1, 64, 64])\n",
      "torch.Size([1, 64, 64])\n"
     ]
    },
    {
     "name": "stderr",
     "output_type": "stream",
     "text": [
      "\n",
      "Extracting representations:  60%|██████    | 121/200 [00:06<00:04, 19.25it/s]"
     ]
    },
    {
     "name": "stdout",
     "output_type": "stream",
     "text": [
      "torch.Size([1, 64, 64])\n",
      "torch.Size([1, 64, 64])\n"
     ]
    },
    {
     "name": "stderr",
     "output_type": "stream",
     "text": [
      "\n",
      "Extracting representations:  62%|██████▏   | 123/200 [00:06<00:03, 19.26it/s]"
     ]
    },
    {
     "name": "stdout",
     "output_type": "stream",
     "text": [
      "torch.Size([1, 64, 64])\n",
      "torch.Size([1, 64, 64])\n"
     ]
    },
    {
     "name": "stderr",
     "output_type": "stream",
     "text": [
      "\n",
      "Extracting representations:  62%|██████▎   | 125/200 [00:06<00:04, 18.61it/s]"
     ]
    },
    {
     "name": "stdout",
     "output_type": "stream",
     "text": [
      "torch.Size([1, 64, 64])\n",
      "torch.Size([1, 64, 64])\n"
     ]
    },
    {
     "name": "stderr",
     "output_type": "stream",
     "text": [
      "\n",
      "Extracting representations:  64%|██████▎   | 127/200 [00:06<00:03, 18.75it/s]"
     ]
    },
    {
     "name": "stdout",
     "output_type": "stream",
     "text": [
      "torch.Size([1, 64, 64])\n",
      "torch.Size([1, 64, 64])\n"
     ]
    },
    {
     "name": "stderr",
     "output_type": "stream",
     "text": [
      "\n",
      "Extracting representations:  64%|██████▍   | 129/200 [00:07<00:03, 18.90it/s]"
     ]
    },
    {
     "name": "stdout",
     "output_type": "stream",
     "text": [
      "torch.Size([1, 64, 64])\n",
      "torch.Size([1, 64, 64])\n"
     ]
    },
    {
     "name": "stderr",
     "output_type": "stream",
     "text": [
      "\n",
      "Extracting representations:  66%|██████▌   | 131/200 [00:07<00:03, 19.06it/s]"
     ]
    },
    {
     "name": "stdout",
     "output_type": "stream",
     "text": [
      "torch.Size([1, 64, 64])\n",
      "torch.Size([1, 64, 64])\n"
     ]
    },
    {
     "name": "stderr",
     "output_type": "stream",
     "text": [
      "\n",
      "Extracting representations:  66%|██████▋   | 133/200 [00:07<00:03, 19.12it/s]"
     ]
    },
    {
     "name": "stdout",
     "output_type": "stream",
     "text": [
      "torch.Size([1, 64, 64])\n",
      "torch.Size([1, 64, 64])\n"
     ]
    },
    {
     "name": "stderr",
     "output_type": "stream",
     "text": [
      "\n",
      "Extracting representations:  68%|██████▊   | 135/200 [00:07<00:03, 19.22it/s]"
     ]
    },
    {
     "name": "stdout",
     "output_type": "stream",
     "text": [
      "torch.Size([1, 64, 64])\n",
      "torch.Size([1, 64, 64])\n"
     ]
    },
    {
     "name": "stderr",
     "output_type": "stream",
     "text": [
      "\n",
      "Extracting representations:  68%|██████▊   | 137/200 [00:07<00:03, 19.35it/s]"
     ]
    },
    {
     "name": "stdout",
     "output_type": "stream",
     "text": [
      "torch.Size([1, 64, 64])\n",
      "torch.Size([1, 64, 64])\n",
      "torch.Size([1, 64, 64])\n"
     ]
    },
    {
     "name": "stderr",
     "output_type": "stream",
     "text": [
      "\n",
      "Extracting representations:  70%|███████   | 140/200 [00:07<00:03, 19.39it/s]"
     ]
    },
    {
     "name": "stdout",
     "output_type": "stream",
     "text": [
      "torch.Size([1, 64, 64])\n",
      "torch.Size([1, 64, 64])\n"
     ]
    },
    {
     "name": "stderr",
     "output_type": "stream",
     "text": [
      "\n",
      "Extracting representations:  71%|███████   | 142/200 [00:07<00:02, 19.34it/s]"
     ]
    },
    {
     "name": "stdout",
     "output_type": "stream",
     "text": [
      "torch.Size([1, 64, 64])\n",
      "torch.Size([1, 64, 64])\n"
     ]
    },
    {
     "name": "stderr",
     "output_type": "stream",
     "text": [
      "\n",
      "Extracting representations:  72%|███████▏  | 144/200 [00:07<00:02, 18.70it/s]"
     ]
    },
    {
     "name": "stdout",
     "output_type": "stream",
     "text": [
      "torch.Size([1, 64, 64])\n",
      "torch.Size([1, 64, 64])\n"
     ]
    },
    {
     "name": "stderr",
     "output_type": "stream",
     "text": [
      "\n",
      "Extracting representations:  73%|███████▎  | 146/200 [00:07<00:02, 18.75it/s]"
     ]
    },
    {
     "name": "stdout",
     "output_type": "stream",
     "text": [
      "torch.Size([1, 64, 64])\n",
      "torch.Size([1, 64, 64])\n"
     ]
    },
    {
     "name": "stderr",
     "output_type": "stream",
     "text": [
      "\n",
      "Extracting representations:  74%|███████▍  | 148/200 [00:08<00:02, 18.87it/s]"
     ]
    },
    {
     "name": "stdout",
     "output_type": "stream",
     "text": [
      "torch.Size([1, 64, 64])\n",
      "torch.Size([1, 64, 64])\n"
     ]
    },
    {
     "name": "stderr",
     "output_type": "stream",
     "text": [
      "\n",
      "Extracting representations:  75%|███████▌  | 150/200 [00:08<00:02, 18.98it/s]"
     ]
    },
    {
     "name": "stdout",
     "output_type": "stream",
     "text": [
      "torch.Size([1, 64, 64])\n",
      "torch.Size([1, 64, 64])\n"
     ]
    },
    {
     "name": "stderr",
     "output_type": "stream",
     "text": [
      "\n",
      "Extracting representations:  76%|███████▌  | 152/200 [00:08<00:02, 19.07it/s]"
     ]
    },
    {
     "name": "stdout",
     "output_type": "stream",
     "text": [
      "torch.Size([1, 64, 64])\n",
      "torch.Size([1, 64, 64])\n"
     ]
    },
    {
     "name": "stderr",
     "output_type": "stream",
     "text": [
      "\n",
      "Extracting representations:  77%|███████▋  | 154/200 [00:08<00:02, 19.27it/s]"
     ]
    },
    {
     "name": "stdout",
     "output_type": "stream",
     "text": [
      "torch.Size([1, 64, 64])\n",
      "torch.Size([1, 64, 64])\n"
     ]
    },
    {
     "name": "stderr",
     "output_type": "stream",
     "text": [
      "\n",
      "Extracting representations:  78%|███████▊  | 156/200 [00:08<00:02, 19.32it/s]"
     ]
    },
    {
     "name": "stdout",
     "output_type": "stream",
     "text": [
      "torch.Size([1, 64, 64])\n",
      "torch.Size([1, 64, 64])\n"
     ]
    },
    {
     "name": "stderr",
     "output_type": "stream",
     "text": [
      "\n",
      "Extracting representations:  79%|███████▉  | 158/200 [00:08<00:02, 19.26it/s]"
     ]
    },
    {
     "name": "stdout",
     "output_type": "stream",
     "text": [
      "torch.Size([1, 64, 64])\n",
      "torch.Size([1, 64, 64])\n"
     ]
    },
    {
     "name": "stderr",
     "output_type": "stream",
     "text": [
      "\n",
      "Extracting representations:  80%|████████  | 160/200 [00:08<00:02, 19.15it/s]"
     ]
    },
    {
     "name": "stdout",
     "output_type": "stream",
     "text": [
      "torch.Size([1, 64, 64])\n",
      "torch.Size([1, 64, 64])\n"
     ]
    },
    {
     "name": "stderr",
     "output_type": "stream",
     "text": [
      "\n",
      "Extracting representations:  81%|████████  | 162/200 [00:08<00:01, 19.21it/s]"
     ]
    },
    {
     "name": "stdout",
     "output_type": "stream",
     "text": [
      "torch.Size([1, 64, 64])\n",
      "torch.Size([1, 64, 64])\n"
     ]
    },
    {
     "name": "stderr",
     "output_type": "stream",
     "text": [
      "\n",
      "Extracting representations:  82%|████████▏ | 164/200 [00:08<00:01, 18.53it/s]"
     ]
    },
    {
     "name": "stdout",
     "output_type": "stream",
     "text": [
      "torch.Size([1, 64, 64])\n",
      "torch.Size([1, 64, 64])\n"
     ]
    },
    {
     "name": "stderr",
     "output_type": "stream",
     "text": [
      "\n",
      "Extracting representations:  83%|████████▎ | 166/200 [00:08<00:01, 18.80it/s]"
     ]
    },
    {
     "name": "stdout",
     "output_type": "stream",
     "text": [
      "torch.Size([1, 64, 64])\n",
      "torch.Size([1, 64, 64])\n"
     ]
    },
    {
     "name": "stderr",
     "output_type": "stream",
     "text": [
      "\n",
      "Extracting representations:  84%|████████▍ | 168/200 [00:09<00:01, 19.03it/s]"
     ]
    },
    {
     "name": "stdout",
     "output_type": "stream",
     "text": [
      "torch.Size([1, 64, 64])\n",
      "torch.Size([1, 64, 64])\n"
     ]
    },
    {
     "name": "stderr",
     "output_type": "stream",
     "text": [
      "\n",
      "Extracting representations:  85%|████████▌ | 170/200 [00:09<00:01, 19.03it/s]"
     ]
    },
    {
     "name": "stdout",
     "output_type": "stream",
     "text": [
      "torch.Size([1, 64, 64])\n",
      "torch.Size([1, 64, 64])\n"
     ]
    },
    {
     "name": "stderr",
     "output_type": "stream",
     "text": [
      "\n",
      "Extracting representations:  86%|████████▌ | 172/200 [00:09<00:01, 19.14it/s]"
     ]
    },
    {
     "name": "stdout",
     "output_type": "stream",
     "text": [
      "torch.Size([1, 64, 64])\n",
      "torch.Size([1, 64, 64])\n",
      "torch.Size([1, 64, 64])\n"
     ]
    },
    {
     "name": "stderr",
     "output_type": "stream",
     "text": [
      "\n",
      "Extracting representations:  88%|████████▊ | 175/200 [00:09<00:01, 19.43it/s]"
     ]
    },
    {
     "name": "stdout",
     "output_type": "stream",
     "text": [
      "torch.Size([1, 64, 64])\n",
      "torch.Size([1, 64, 64])\n"
     ]
    },
    {
     "name": "stderr",
     "output_type": "stream",
     "text": [
      "\n",
      "Extracting representations:  88%|████████▊ | 177/200 [00:09<00:01, 19.33it/s]"
     ]
    },
    {
     "name": "stdout",
     "output_type": "stream",
     "text": [
      "torch.Size([1, 64, 64])\n",
      "torch.Size([1, 64, 64])\n"
     ]
    },
    {
     "name": "stderr",
     "output_type": "stream",
     "text": [
      "\n",
      "Extracting representations:  90%|████████▉ | 179/200 [00:09<00:01, 19.23it/s]"
     ]
    },
    {
     "name": "stdout",
     "output_type": "stream",
     "text": [
      "torch.Size([1, 64, 64])\n",
      "torch.Size([1, 64, 64])\n"
     ]
    },
    {
     "name": "stderr",
     "output_type": "stream",
     "text": [
      "\n",
      "Extracting representations:  90%|█████████ | 181/200 [00:09<00:00, 19.05it/s]"
     ]
    },
    {
     "name": "stdout",
     "output_type": "stream",
     "text": [
      "torch.Size([1, 64, 64])\n",
      "torch.Size([1, 64, 64])\n"
     ]
    },
    {
     "name": "stderr",
     "output_type": "stream",
     "text": [
      "\n",
      "Extracting representations:  92%|█████████▏| 183/200 [00:09<00:00, 18.66it/s]"
     ]
    },
    {
     "name": "stdout",
     "output_type": "stream",
     "text": [
      "torch.Size([1, 64, 64])\n",
      "torch.Size([1, 64, 64])\n"
     ]
    },
    {
     "name": "stderr",
     "output_type": "stream",
     "text": [
      "\n",
      "Extracting representations:  92%|█████████▎| 185/200 [00:09<00:00, 18.94it/s]"
     ]
    },
    {
     "name": "stdout",
     "output_type": "stream",
     "text": [
      "torch.Size([1, 64, 64])\n",
      "torch.Size([1, 64, 64])\n"
     ]
    },
    {
     "name": "stderr",
     "output_type": "stream",
     "text": [
      "\n",
      "Extracting representations:  94%|█████████▎| 187/200 [00:10<00:00, 19.02it/s]"
     ]
    },
    {
     "name": "stdout",
     "output_type": "stream",
     "text": [
      "torch.Size([1, 64, 64])\n",
      "torch.Size([1, 64, 64])\n"
     ]
    },
    {
     "name": "stderr",
     "output_type": "stream",
     "text": [
      "\n",
      "Extracting representations:  94%|█████████▍| 189/200 [00:10<00:00, 19.11it/s]"
     ]
    },
    {
     "name": "stdout",
     "output_type": "stream",
     "text": [
      "torch.Size([1, 64, 64])\n",
      "torch.Size([1, 64, 64])\n"
     ]
    },
    {
     "name": "stderr",
     "output_type": "stream",
     "text": [
      "\n",
      "Extracting representations:  96%|█████████▌| 191/200 [00:10<00:00, 19.23it/s]"
     ]
    },
    {
     "name": "stdout",
     "output_type": "stream",
     "text": [
      "torch.Size([1, 64, 64])\n",
      "torch.Size([1, 64, 64])\n"
     ]
    },
    {
     "name": "stderr",
     "output_type": "stream",
     "text": [
      "\n",
      "Extracting representations:  96%|█████████▋| 193/200 [00:10<00:00, 19.37it/s]"
     ]
    },
    {
     "name": "stdout",
     "output_type": "stream",
     "text": [
      "torch.Size([1, 64, 64])\n",
      "torch.Size([1, 64, 64])\n",
      "torch.Size([1, 64, 64])\n"
     ]
    },
    {
     "name": "stderr",
     "output_type": "stream",
     "text": [
      "\n",
      "Extracting representations:  98%|█████████▊| 196/200 [00:10<00:00, 19.51it/s]"
     ]
    },
    {
     "name": "stdout",
     "output_type": "stream",
     "text": [
      "torch.Size([1, 64, 64])\n",
      "torch.Size([1, 64, 64])\n"
     ]
    },
    {
     "name": "stderr",
     "output_type": "stream",
     "text": [
      "\n",
      "Extracting representations:  99%|█████████▉| 198/200 [00:10<00:00, 19.40it/s]"
     ]
    },
    {
     "name": "stdout",
     "output_type": "stream",
     "text": [
      "torch.Size([1, 64, 64])\n",
      "torch.Size([1, 64, 64])\n"
     ]
    },
    {
     "name": "stderr",
     "output_type": "stream",
     "text": [
      "\n",
      "Extracting representations: 100%|██████████| 200/200 [00:10<00:00, 18.66it/s]\n",
      "100%|██████████| 1/1 [00:10<00:00, 10.72s/it]\n"
     ]
    },
    {
     "data": {
      "image/png": "[encoded data removed]",
      "text/plain": [
       "<Figure size 3500x500 with 6 Axes>"
      ]
     },
     "metadata": {},
     "output_type": "display_data"
    },
    {
     "name": "stdout",
     "output_type": "stream",
     "text": [
      "Top features overall (harmful):\n"
     ]
    },
    {
     "data": {
      "text/html": [
       "<div>\n",
       "<style scoped>\n",
       "    .dataframe tbody tr th:only-of-type {\n",
       "        vertical-align: middle;\n",
       "    }\n",
       "\n",
       "    .dataframe tbody tr th {\n",
       "        vertical-align: top;\n",
       "    }\n",
       "\n",
       "    .dataframe thead th {\n",
       "        text-align: right;\n",
       "    }\n",
       "</style>\n",
       "<table border=\"1\" class=\"dataframe\">\n",
       "  <thead>\n",
       "    <tr style=\"text-align: right;\">\n",
       "      <th></th>\n",
       "      <th>layer</th>\n",
       "      <th>latent_dim</th>\n",
       "      <th>cohens_d</th>\n",
       "      <th>fisher</th>\n",
       "    </tr>\n",
       "  </thead>\n",
       "  <tbody>\n",
       "    <tr>\n",
       "      <th>0</th>\n",
       "      <td>6</td>\n",
       "      <td>21</td>\n",
       "      <td>0.764942</td>\n",
       "      <td>0.292568</td>\n",
       "    </tr>\n",
       "    <tr>\n",
       "      <th>1</th>\n",
       "      <td>6</td>\n",
       "      <td>22</td>\n",
       "      <td>0.692282</td>\n",
       "      <td>0.239627</td>\n",
       "    </tr>\n",
       "    <tr>\n",
       "      <th>2</th>\n",
       "      <td>6</td>\n",
       "      <td>20</td>\n",
       "      <td>0.684271</td>\n",
       "      <td>0.234113</td>\n",
       "    </tr>\n",
       "    <tr>\n",
       "      <th>3</th>\n",
       "      <td>6</td>\n",
       "      <td>1</td>\n",
       "      <td>-0.669086</td>\n",
       "      <td>0.223838</td>\n",
       "    </tr>\n",
       "    <tr>\n",
       "      <th>4</th>\n",
       "      <td>6</td>\n",
       "      <td>23</td>\n",
       "      <td>0.663941</td>\n",
       "      <td>0.220409</td>\n",
       "    </tr>\n",
       "  </tbody>\n",
       "</table>\n",
       "</div>"
      ],
      "text/plain": [
       "   layer  latent_dim  cohens_d    fisher\n",
       "0      6          21  0.764942  0.292568\n",
       "1      6          22  0.692282  0.239627\n",
       "2      6          20  0.684271  0.234113\n",
       "3      6           1 -0.669086  0.223838\n",
       "4      6          23  0.663941  0.220409"
      ]
     },
     "metadata": {},
     "output_type": "display_data"
    },
    {
     "name": "stdout",
     "output_type": "stream",
     "text": [
      "Top features overall (harmless):\n"
     ]
    },
    {
     "data": {
      "text/html": [
       "<div>\n",
       "<style scoped>\n",
       "    .dataframe tbody tr th:only-of-type {\n",
       "        vertical-align: middle;\n",
       "    }\n",
       "\n",
       "    .dataframe tbody tr th {\n",
       "        vertical-align: top;\n",
       "    }\n",
       "\n",
       "    .dataframe thead th {\n",
       "        text-align: right;\n",
       "    }\n",
       "</style>\n",
       "<table border=\"1\" class=\"dataframe\">\n",
       "  <thead>\n",
       "    <tr style=\"text-align: right;\">\n",
       "      <th></th>\n",
       "      <th>layer</th>\n",
       "      <th>latent_dim</th>\n",
       "      <th>cohens_d</th>\n",
       "      <th>fisher</th>\n",
       "    </tr>\n",
       "  </thead>\n",
       "  <tbody>\n",
       "    <tr>\n",
       "      <th>0</th>\n",
       "      <td>6</td>\n",
       "      <td>15</td>\n",
       "      <td>-0.024106</td>\n",
       "      <td>0.000291</td>\n",
       "    </tr>\n",
       "    <tr>\n",
       "      <th>1</th>\n",
       "      <td>6</td>\n",
       "      <td>37</td>\n",
       "      <td>0.029583</td>\n",
       "      <td>0.000438</td>\n",
       "    </tr>\n",
       "    <tr>\n",
       "      <th>2</th>\n",
       "      <td>6</td>\n",
       "      <td>53</td>\n",
       "      <td>0.034688</td>\n",
       "      <td>0.000602</td>\n",
       "    </tr>\n",
       "    <tr>\n",
       "      <th>3</th>\n",
       "      <td>6</td>\n",
       "      <td>13</td>\n",
       "      <td>0.046114</td>\n",
       "      <td>0.001063</td>\n",
       "    </tr>\n",
       "    <tr>\n",
       "      <th>4</th>\n",
       "      <td>6</td>\n",
       "      <td>9</td>\n",
       "      <td>-0.094348</td>\n",
       "      <td>0.004451</td>\n",
       "    </tr>\n",
       "  </tbody>\n",
       "</table>\n",
       "</div>"
      ],
      "text/plain": [
       "   layer  latent_dim  cohens_d    fisher\n",
       "0      6          15 -0.024106  0.000291\n",
       "1      6          37  0.029583  0.000438\n",
       "2      6          53  0.034688  0.000602\n",
       "3      6          13  0.046114  0.001063\n",
       "4      6           9 -0.094348  0.004451"
      ]
     },
     "metadata": {},
     "output_type": "display_data"
    }
   ],
   "source": [
    "for idx, sae_config in enumerate(SAES[:1]):\n",
    "    SAES[idx][\"results\"] = id_refusal_feature_for_sae(\n",
    "        sae_config, \n",
    "        # looks at all features, use this to generate vis\n",
    "        top_N = int(BASE_HIDDEN_SIZE*sae_config[\"exp_factor\"]),\n",
    "        # top_N = 100,\n",
    "        rank_metric = \"fisher\", # cohens_d\n",
    "        layers = [sae_config[\"layer\"]]\n",
    "    )"
   ]
  },
  {
   "cell_type": "code",
   "execution_count": 9,
   "id": "1c5c6c0f-dc28-4e11-9e79-9c8af06d32ca",
   "metadata": {},
   "outputs": [
    {
     "ename": "TypeError",
     "evalue": "'NoneType' object is not subscriptable",
     "output_type": "error",
     "traceback": [
      "\u001b[31m---------------------------------------------------------------------------\u001b[39m",
      "\u001b[31mTypeError\u001b[39m                                 Traceback (most recent call last)",
      "\u001b[36mCell\u001b[39m\u001b[36m \u001b[39m\u001b[32mIn[9]\u001b[39m\u001b[32m, line 62\u001b[39m\n\u001b[32m     59\u001b[39m     plt.savefig(\u001b[33mf\u001b[39m\u001b[33m\"\u001b[39m\u001b[33m./results/visualizations/feature_selection_metric_distribution_\u001b[39m\u001b[38;5;132;01m{\u001b[39;00msae[\u001b[33m'\u001b[39m\u001b[33mname\u001b[39m\u001b[33m'\u001b[39m]\u001b[38;5;132;01m}\u001b[39;00m\u001b[33m\"\u001b[39m, dpi=\u001b[32m150\u001b[39m, bbox_inches=\u001b[33m'\u001b[39m\u001b[33mtight\u001b[39m\u001b[33m'\u001b[39m)\n\u001b[32m     60\u001b[39m     plt.show()\n\u001b[32m---> \u001b[39m\u001b[32m62\u001b[39m \u001b[43mplot_sae_feature_dists\u001b[49m\u001b[43m(\u001b[49m\u001b[43mSAES\u001b[49m\u001b[43m[\u001b[49m\u001b[32;43m1\u001b[39;49m\u001b[43m]\u001b[49m\u001b[43m)\u001b[49m\n",
      "\u001b[36mCell\u001b[39m\u001b[36m \u001b[39m\u001b[32mIn[9]\u001b[39m\u001b[32m, line 19\u001b[39m, in \u001b[36mplot_sae_feature_dists\u001b[39m\u001b[34m(sae, bins, palette)\u001b[39m\n\u001b[32m     16\u001b[39m     palette = [\u001b[33m\"\u001b[39m\u001b[33m#4C72B0\u001b[39m\u001b[33m\"\u001b[39m, \u001b[33m\"\u001b[39m\u001b[33m#DD8452\u001b[39m\u001b[33m\"\u001b[39m]  \u001b[38;5;66;03m# distinct blue/orange\u001b[39;00m\n\u001b[32m     18\u001b[39m \u001b[38;5;66;03m# Extract and combine\u001b[39;00m\n\u001b[32m---> \u001b[39m\u001b[32m19\u001b[39m df_harmful = \u001b[43msae\u001b[49m\u001b[43m[\u001b[49m\u001b[33;43m\"\u001b[39;49m\u001b[33;43mresults\u001b[39;49m\u001b[33;43m\"\u001b[39;49m\u001b[43m]\u001b[49m\u001b[43m[\u001b[49m\u001b[33;43m\"\u001b[39;49m\u001b[33;43mtop_harmful\u001b[39;49m\u001b[33;43m\"\u001b[39;49m\u001b[43m]\u001b[49m[[\u001b[33m\"\u001b[39m\u001b[33mcohens_d\u001b[39m\u001b[33m\"\u001b[39m, \u001b[33m\"\u001b[39m\u001b[33mfisher\u001b[39m\u001b[33m\"\u001b[39m]]\n\u001b[32m     20\u001b[39m df_harmless = sae[\u001b[33m\"\u001b[39m\u001b[33mresults\u001b[39m\u001b[33m\"\u001b[39m][\u001b[33m\"\u001b[39m\u001b[33mtop_harmless\u001b[39m\u001b[33m\"\u001b[39m][[\u001b[33m\"\u001b[39m\u001b[33mcohens_d\u001b[39m\u001b[33m\"\u001b[39m, \u001b[33m\"\u001b[39m\u001b[33mfisher\u001b[39m\u001b[33m\"\u001b[39m]]\n\u001b[32m     21\u001b[39m df_total = pd.concat([df_harmful, df_harmless], ignore_index=\u001b[38;5;28;01mTrue\u001b[39;00m)\n",
      "\u001b[31mTypeError\u001b[39m: 'NoneType' object is not subscriptable"
     ]
    }
   ],
   "source": [
    "sns.set(style=\"whitegrid\")\n",
    "\n",
    "def plot_sae_feature_dists(sae, bins: int = 20, palette: list = None):\n",
    "    \"\"\"\n",
    "    Combine top_harmful and top_harmless features and plot two histograms:\n",
    "      - left: Cohen's d distribution\n",
    "      - right: Fisher score distribution\n",
    "\n",
    "    Args:\n",
    "      sae: one element from SAES, with sae[\"results\"][\"top_harmful\"] and \n",
    "           sae[\"results\"][\"top_harmless\"] as DataFrames containing 'cohens_d' and 'fisher'\n",
    "      bins: number of histogram bins\n",
    "      palette: list of two colors for the plots [cohens_color, fisher_color]\n",
    "    \"\"\"\n",
    "    if palette is None:\n",
    "        palette = [\"#4C72B0\", \"#DD8452\"]  # distinct blue/orange\n",
    "\n",
    "    # Extract and combine\n",
    "    df_harmful = sae[\"results\"][\"top_harmful\"][[\"cohens_d\", \"fisher\"]]\n",
    "    df_harmless = sae[\"results\"][\"top_harmless\"][[\"cohens_d\", \"fisher\"]]\n",
    "    df_total = pd.concat([df_harmful, df_harmless], ignore_index=True)\n",
    "\n",
    "    sns.set(style=\"whitegrid\")\n",
    "    fig, axes = plt.subplots(1, 2, figsize=(12, 5))\n",
    "\n",
    "    # Plot Cohen's d\n",
    "    sns.histplot(\n",
    "        df_total[\"cohens_d\"],\n",
    "        bins=bins,\n",
    "        kde=True,\n",
    "        ax=axes[0],\n",
    "        color=palette[0],\n",
    "        edgecolor=\"white\"\n",
    "    )\n",
    "    axes[0].set_title(\"Cohen's d Distribution\\n(Top Combined Features)\", fontsize=14, weight=\"bold\")\n",
    "    axes[0].set_xlabel(\"Cohen's d\", fontsize=12)\n",
    "    axes[0].set_ylabel(\"Count\", fontsize=12)\n",
    "    axes[0].axvline(df_total[\"cohens_d\"].mean(), color=palette[0], linestyle=\"--\",\n",
    "                    label=f\"Mean {df_total['cohens_d'].mean():.2f}\")\n",
    "    axes[0].legend()\n",
    "\n",
    "    # Plot Fisher score\n",
    "    sns.histplot(\n",
    "        df_total[\"fisher\"],\n",
    "        bins=bins,\n",
    "        kde=True,\n",
    "        ax=axes[1],\n",
    "        color=palette[1],\n",
    "        edgecolor=\"white\"\n",
    "    )\n",
    "    axes[1].set_title(\"Fisher Score Distribution\\n(Top Features)\", fontsize=14, weight=\"bold\")\n",
    "    axes[1].set_xlabel(\"Fisher Score\", fontsize=12)\n",
    "    axes[1].set_ylabel(\"Count\", fontsize=12)\n",
    "    axes[1].axvline(df_total[\"fisher\"].mean(), color=palette[1], linestyle=\"--\",\n",
    "                    label=f\"Mean {df_total['fisher'].mean():.2f}\")\n",
    "    axes[1].legend()\n",
    "\n",
    "    plt.tight_layout()\n",
    "    plt.savefig(f\"./results/visualizations/feature_selection_metric_distribution_{sae['name']}\", dpi=150, bbox_inches='tight')\n",
    "    plt.show()\n",
    "\n",
    "plot_sae_feature_dists(SAES[1])"
   ]
  }
 ],
 "metadata": {
  "kernelspec": {
   "display_name": "refusal (py3.11)",
   "language": "python",
   "name": "refusalkernel"
  },
  "language_info": {
   "codemirror_mode": {
    "name": "ipython",
    "version": 3
   },
   "file_extension": ".py",
   "mimetype": "text/x-python",
   "name": "python",
   "nbconvert_exporter": "python",
   "pygments_lexer": "ipython3",
   "version": "3.11.11"
  }
 },
 "nbformat": 4,
 "nbformat_minor": 5
}
