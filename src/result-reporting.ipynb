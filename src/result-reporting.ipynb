{
 "cells": [
  {
   "cell_type": "markdown",
   "id": "65303933-d92e-427b-a56f-fc5a82c12164",
   "metadata": {},
   "source": [
    "# Result Table Generation"
   ]
  },
  {
   "cell_type": "markdown",
   "id": "8936eff4-7d47-4ca3-b4e6-9c0de130a945",
   "metadata": {},
   "source": [
    "## Imports"
   ]
  },
  {
   "cell_type": "code",
   "execution_count": 1,
   "id": "5b84643d-4d61-4c4b-a33a-93bc6611e239",
   "metadata": {},
   "outputs": [],
   "source": [
    "import wandb\n",
    "import pandas as pd\n",
    "import matplotlib.pyplot as plt"
   ]
  },
  {
   "cell_type": "code",
   "execution_count": 2,
   "id": "0949042f-929c-47fd-94cf-aa58702f33cd",
   "metadata": {},
   "outputs": [],
   "source": [
    "from evaluation.apply_evaluation import fetch_and_report_wandb"
   ]
  },
  {
   "cell_type": "markdown",
   "id": "565c152e-d1a4-407a-8bf0-2a6c77b61ce3",
   "metadata": {},
   "source": [
    "## Settings"
   ]
  },
  {
   "cell_type": "code",
   "execution_count": 3,
   "id": "ad88b485-b05d-45f3-9502-822528fd9c97",
   "metadata": {},
   "outputs": [],
   "source": [
    "# login to wandb\n",
    "# wandb.login()"
   ]
  },
  {
   "cell_type": "code",
   "execution_count": 4,
   "id": "cf46949f-1435-4b75-9de7-913d143ecfb4",
   "metadata": {},
   "outputs": [],
   "source": [
    "%matplotlib inline"
   ]
  },
  {
   "cell_type": "markdown",
   "id": "5df5ba5f-d3aa-4213-90c2-a0d52a00382b",
   "metadata": {},
   "source": [
    "## Visualisations"
   ]
  },
  {
   "cell_type": "code",
   "execution_count": 1,
   "id": "cbe3cce7-28cf-42ca-9a21-39d4d5e2b153",
   "metadata": {},
   "outputs": [
    {
     "name": "stdout",
     "output_type": "stream",
     "text": [
      "Found 5 result files. Loading...\n",
      "Data loaded and processed successfully.\n",
      "\n",
      "Found 1 evaluation datasets. Generating a dashboard for each...\n",
      "  [1/1] Generating dashboard for eval_dataset: 'datablations/c4-filter-small'\n",
      "    -> Plot 1 saved to 'results/visualizations/dashboard_1_EV_eval_on_datablations_c4-filter-small.png'\n",
      "    -> Plot 2 saved to 'results/visualizations/dashboard_2_DeadFeatures_eval_on_datablations_c4-filter-small.png'\n",
      "    -> Plot 3 saved to 'results/visualizations/dashboard_3_Tradeoff_eval_on_datablations_c4-filter-small.png'\n"
     ]
    }
   ],
   "source": [
    "from evaluation.visualise_sae_metrics import load_sae_results, visualize_sae_results_grouped\n",
    "\n",
    "RESULTS_DIRECTORY = \"results/saes/\"\n",
    "\n",
    "results_df = load_sae_results(RESULTS_DIRECTORY)\n",
    "if not results_df.empty:\n",
    "    visualize_sae_results_grouped(results_df)"
   ]
  },
  {
   "cell_type": "markdown",
   "id": "caebd26d-6003-497a-b842-1de7d54b0f1a",
   "metadata": {
    "jp-MarkdownHeadingCollapsed": true
   },
   "source": [
    "## Report Gathering & Tables"
   ]
  },
  {
   "cell_type": "code",
   "execution_count": 6,
   "id": "ba308813-8d5f-4656-9cc7-432290749492",
   "metadata": {},
   "outputs": [
    {
     "data": {
      "image/png": "[encoded data removed]",
      "text/plain": [
       "<Figure size 1500x800 with 6 Axes>"
      ]
     },
     "metadata": {},
     "output_type": "display_data"
    }
   ],
   "source": [
    "df_long, df_short, latex_long, latex_short, fig = fetch_and_report_wandb(\n",
    "    \"tilmankerl-technical-university-of-vienna/MA-sae-train/k867a0u3\"\n",
    ")"
   ]
  },
  {
   "cell_type": "code",
   "execution_count": 7,
   "id": "8ebbabc9-0d2c-4320-8fc4-1fcddf991a57",
   "metadata": {},
   "outputs": [
    {
     "data": {
      "text/html": [
       "<div>\n",
       "<style scoped>\n",
       "    .dataframe tbody tr th:only-of-type {\n",
       "        vertical-align: middle;\n",
       "    }\n",
       "\n",
       "    .dataframe tbody tr th {\n",
       "        vertical-align: top;\n",
       "    }\n",
       "\n",
       "    .dataframe thead th {\n",
       "        text-align: right;\n",
       "    }\n",
       "</style>\n",
       "<table border=\"1\" class=\"dataframe\">\n",
       "  <thead>\n",
       "    <tr style=\"text-align: right;\">\n",
       "      <th></th>\n",
       "      <th>Metric</th>\n",
       "      <th>Value</th>\n",
       "    </tr>\n",
       "  </thead>\n",
       "  <tbody>\n",
       "    <tr>\n",
       "      <th>0</th>\n",
       "      <td>Explained Variance</td>\n",
       "      <td>-21.291372</td>\n",
       "    </tr>\n",
       "    <tr>\n",
       "      <th>1</th>\n",
       "      <td>Reconstruction MSE</td>\n",
       "      <td>112.596863</td>\n",
       "    </tr>\n",
       "    <tr>\n",
       "      <th>2</th>\n",
       "      <td>Cosine Similarity</td>\n",
       "      <td>0.905586</td>\n",
       "    </tr>\n",
       "    <tr>\n",
       "      <th>3</th>\n",
       "      <td>Overall Loss</td>\n",
       "      <td>487019.312500</td>\n",
       "    </tr>\n",
       "    <tr>\n",
       "      <th>4</th>\n",
       "      <td>MSE Loss</td>\n",
       "      <td>484256.343750</td>\n",
       "    </tr>\n",
       "    <tr>\n",
       "      <th>5</th>\n",
       "      <td>L1 Loss</td>\n",
       "      <td>5525.955078</td>\n",
       "    </tr>\n",
       "    <tr>\n",
       "      <th>6</th>\n",
       "      <td>Activation Sparsity (L0)</td>\n",
       "      <td>4069.241943</td>\n",
       "    </tr>\n",
       "    <tr>\n",
       "      <th>7</th>\n",
       "      <td>L1 Sparsity (sum abs activ.)</td>\n",
       "      <td>5526.010254</td>\n",
       "    </tr>\n",
       "    <tr>\n",
       "      <th>8</th>\n",
       "      <td>Dead Features</td>\n",
       "      <td>0.000000</td>\n",
       "    </tr>\n",
       "    <tr>\n",
       "      <th>9</th>\n",
       "      <td>Shrinkage (L2 Ratio)</td>\n",
       "      <td>6.015663</td>\n",
       "    </tr>\n",
       "    <tr>\n",
       "      <th>10</th>\n",
       "      <td>Relative Recon. Bias</td>\n",
       "      <td>6.595165</td>\n",
       "    </tr>\n",
       "    <tr>\n",
       "      <th>11</th>\n",
       "      <td>CE Loss (no SAE)</td>\n",
       "      <td>2.719747</td>\n",
       "    </tr>\n",
       "    <tr>\n",
       "      <th>12</th>\n",
       "      <td>CE Loss (with SAE)</td>\n",
       "      <td>4.457645</td>\n",
       "    </tr>\n",
       "    <tr>\n",
       "      <th>13</th>\n",
       "      <td>CE Loss (ablation)</td>\n",
       "      <td>11.682494</td>\n",
       "    </tr>\n",
       "    <tr>\n",
       "      <th>14</th>\n",
       "      <td>CE Loss Score</td>\n",
       "      <td>0.806098</td>\n",
       "    </tr>\n",
       "  </tbody>\n",
       "</table>\n",
       "</div>"
      ],
      "text/plain": [
       "                          Metric          Value\n",
       "0             Explained Variance     -21.291372\n",
       "1             Reconstruction MSE     112.596863\n",
       "2              Cosine Similarity       0.905586\n",
       "3                   Overall Loss  487019.312500\n",
       "4                       MSE Loss  484256.343750\n",
       "5                        L1 Loss    5525.955078\n",
       "6       Activation Sparsity (L0)    4069.241943\n",
       "7   L1 Sparsity (sum abs activ.)    5526.010254\n",
       "8                  Dead Features       0.000000\n",
       "9           Shrinkage (L2 Ratio)       6.015663\n",
       "10          Relative Recon. Bias       6.595165\n",
       "11              CE Loss (no SAE)       2.719747\n",
       "12            CE Loss (with SAE)       4.457645\n",
       "13            CE Loss (ablation)      11.682494\n",
       "14                 CE Loss Score       0.806098"
      ]
     },
     "metadata": {},
     "output_type": "display_data"
    },
    {
     "data": {
      "text/html": [
       "<div>\n",
       "<style scoped>\n",
       "    .dataframe tbody tr th:only-of-type {\n",
       "        vertical-align: middle;\n",
       "    }\n",
       "\n",
       "    .dataframe tbody tr th {\n",
       "        vertical-align: top;\n",
       "    }\n",
       "\n",
       "    .dataframe thead th {\n",
       "        text-align: right;\n",
       "    }\n",
       "</style>\n",
       "<table border=\"1\" class=\"dataframe\">\n",
       "  <thead>\n",
       "    <tr style=\"text-align: right;\">\n",
       "      <th></th>\n",
       "      <th>Metric</th>\n",
       "      <th>Value</th>\n",
       "    </tr>\n",
       "  </thead>\n",
       "  <tbody>\n",
       "    <tr>\n",
       "      <th>0</th>\n",
       "      <td>Explained Variance</td>\n",
       "      <td>-21.291372</td>\n",
       "    </tr>\n",
       "    <tr>\n",
       "      <th>1</th>\n",
       "      <td>Reconstruction MSE</td>\n",
       "      <td>112.596863</td>\n",
       "    </tr>\n",
       "    <tr>\n",
       "      <th>2</th>\n",
       "      <td>Activation Sparsity (L0)</td>\n",
       "      <td>4069.241943</td>\n",
       "    </tr>\n",
       "    <tr>\n",
       "      <th>3</th>\n",
       "      <td>L1 Sparsity</td>\n",
       "      <td>5526.010254</td>\n",
       "    </tr>\n",
       "    <tr>\n",
       "      <th>4</th>\n",
       "      <td>Overall Loss</td>\n",
       "      <td>487019.312500</td>\n",
       "    </tr>\n",
       "    <tr>\n",
       "      <th>5</th>\n",
       "      <td>CE Loss (no SAE)</td>\n",
       "      <td>2.719747</td>\n",
       "    </tr>\n",
       "  </tbody>\n",
       "</table>\n",
       "</div>"
      ],
      "text/plain": [
       "                     Metric          Value\n",
       "0        Explained Variance     -21.291372\n",
       "1        Reconstruction MSE     112.596863\n",
       "2  Activation Sparsity (L0)    4069.241943\n",
       "3               L1 Sparsity    5526.010254\n",
       "4              Overall Loss  487019.312500\n",
       "5          CE Loss (no SAE)       2.719747"
      ]
     },
     "metadata": {},
     "output_type": "display_data"
    }
   ],
   "source": [
    "display(df_long)\n",
    "display(df_short)"
   ]
  },
  {
   "cell_type": "code",
   "execution_count": 8,
   "id": "f2881fde-d442-48b4-bcb5-fd37688994e4",
   "metadata": {},
   "outputs": [
    {
     "name": "stdout",
     "output_type": "stream",
     "text": [
      "\\begin{table}\n",
      "\\caption{SAE Training results for \\texttt{pythia-410m-deduped} on hook \\texttt{blocks.10.hook_resid_post}, using the \\texttt{lmsys-chat-1m-english-tokenized} dataset.}\n",
      "\\label{tab:sae_metrics_full}\n",
      "\\begin{tabular}{lr}\n",
      "\\toprule\n",
      "Metric & Value \\\\\n",
      "\\midrule\n",
      "Explained Variance & -21.2914 \\\\\n",
      "Reconstruction MSE & 112.5969 \\\\\n",
      "Cosine Similarity & 0.9056 \\\\\n",
      "Overall Loss & 487019.3125 \\\\\n",
      "MSE Loss & 484256.3438 \\\\\n",
      "L1 Loss & 5525.9551 \\\\\n",
      "Activation Sparsity (L0) & 4069.2419 \\\\\n",
      "L1 Sparsity (sum abs activ.) & 5526.0103 \\\\\n",
      "Dead Features & 0.0000 \\\\\n",
      "Shrinkage (L2 Ratio) & 6.0157 \\\\\n",
      "Relative Recon. Bias & 6.5952 \\\\\n",
      "CE Loss (no SAE) & 2.7197 \\\\\n",
      "CE Loss (with SAE) & 4.4576 \\\\\n",
      "CE Loss (ablation) & 11.6825 \\\\\n",
      "CE Loss Score & 0.8061 \\\\\n",
      "\\bottomrule\n",
      "\\end{tabular}\n",
      "\\end{table}\n",
      "\n",
      "\\begin{table}\n",
      "\\caption{SAE Training results for \\texttt{pythia-410m-deduped} on hook \\texttt{blocks.10.hook_resid_post}, using the \\texttt{lmsys-chat-1m-english-tokenized} dataset.}\n",
      "\\label{tab:sae_metrics_short}\n",
      "\\begin{tabular}{lr}\n",
      "\\toprule\n",
      "Metric & Value \\\\\n",
      "\\midrule\n",
      "Explained Variance & -21.2914 \\\\\n",
      "Reconstruction MSE & 112.5969 \\\\\n",
      "Activation Sparsity (L0) & 4069.2419 \\\\\n",
      "L1 Sparsity & 5526.0103 \\\\\n",
      "Overall Loss & 487019.3125 \\\\\n",
      "CE Loss (no SAE) & 2.7197 \\\\\n",
      "\\bottomrule\n",
      "\\end{tabular}\n",
      "\\end{table}\n",
      "\n"
     ]
    }
   ],
   "source": [
    "print(latex_long)\n",
    "print(latex_short)"
   ]
  },
  {
   "cell_type": "code",
   "execution_count": null,
   "id": "422a83f6-71d2-4a07-a1e1-3325eea5f1b7",
   "metadata": {},
   "outputs": [],
   "source": []
  }
 ],
 "metadata": {
  "kernelspec": {
   "display_name": "refusal (py3.11)",
   "language": "python",
   "name": "refusalkernel"
  },
  "language_info": {
   "codemirror_mode": {
    "name": "ipython",
    "version": 3
   },
   "file_extension": ".py",
   "mimetype": "text/x-python",
   "name": "python",
   "nbconvert_exporter": "python",
   "pygments_lexer": "ipython3",
   "version": "3.11.11"
  }
 },
 "nbformat": 4,
 "nbformat_minor": 5
}
